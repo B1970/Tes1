{
  "cells": [
    {
      "cell_type": "markdown",
      "metadata": {
        "id": "view-in-github",
        "colab_type": "text"
      },
      "source": [
        "<a href=\"https://colab.research.google.com/github/B1970/Tes1/blob/main/Untitled4.ipynb\" target=\"_parent\"><img src=\"https://colab.research.google.com/assets/colab-badge.svg\" alt=\"Open In Colab\"/></a>"
      ]
    },
    {
      "cell_type": "code",
      "execution_count": null,
      "metadata": {
        "id": "030eaU9lxrnQ"
      },
      "outputs": [],
      "source": [
        "import pandas as pd\n",
        "import seaborn as sns\n",
        "import matplotlib.pyplot as plt"
      ]
    },
    {
      "cell_type": "code",
      "execution_count": null,
      "metadata": {
        "colab": {
          "base_uri": "https://localhost:8080/"
        },
        "id": "3qK_7apmzVmF",
        "outputId": "86b003a2-a2f1-48dd-f9e3-9b1bc1c1a78b"
      },
      "outputs": [
        {
          "output_type": "stream",
          "name": "stdout",
          "text": [
            "<class 'pandas.core.frame.DataFrame'>\n",
            "RangeIndex: 336776 entries, 0 to 336775\n",
            "Data columns (total 21 columns):\n",
            " #   Column          Non-Null Count   Dtype  \n",
            "---  ------          --------------   -----  \n",
            " 0   id              336776 non-null  int64  \n",
            " 1   year            336776 non-null  int64  \n",
            " 2   month           336776 non-null  int64  \n",
            " 3   day             336776 non-null  int64  \n",
            " 4   dep_time        328521 non-null  float64\n",
            " 5   sched_dep_time  336776 non-null  int64  \n",
            " 6   dep_delay       328521 non-null  float64\n",
            " 7   arr_time        328063 non-null  float64\n",
            " 8   sched_arr_time  336776 non-null  int64  \n",
            " 9   arr_delay       327346 non-null  float64\n",
            " 10  carrier         336776 non-null  object \n",
            " 11  flight          336776 non-null  int64  \n",
            " 12  tailnum         334264 non-null  object \n",
            " 13  origin          336776 non-null  object \n",
            " 14  dest            336776 non-null  object \n",
            " 15  air_time        327346 non-null  float64\n",
            " 16  distance        336776 non-null  int64  \n",
            " 17  hour            336776 non-null  int64  \n",
            " 18  minute          336776 non-null  int64  \n",
            " 19  time_hour       336776 non-null  object \n",
            " 20  name            336776 non-null  object \n",
            "dtypes: float64(5), int64(10), object(6)\n",
            "memory usage: 54.0+ MB\n",
            "None\n",
            "   id  year  month  day  dep_time  sched_dep_time  dep_delay  arr_time  \\\n",
            "0   0  2013      1    1     517.0             515        2.0     830.0   \n",
            "1   1  2013      1    1     533.0             529        4.0     850.0   \n",
            "2   2  2013      1    1     542.0             540        2.0     923.0   \n",
            "3   3  2013      1    1     544.0             545       -1.0    1004.0   \n",
            "4   4  2013      1    1     554.0             600       -6.0     812.0   \n",
            "\n",
            "   sched_arr_time  arr_delay  ... flight  tailnum origin dest air_time  \\\n",
            "0             819       11.0  ...   1545   N14228    EWR  IAH    227.0   \n",
            "1             830       20.0  ...   1714   N24211    LGA  IAH    227.0   \n",
            "2             850       33.0  ...   1141   N619AA    JFK  MIA    160.0   \n",
            "3            1022      -18.0  ...    725   N804JB    JFK  BQN    183.0   \n",
            "4             837      -25.0  ...    461   N668DN    LGA  ATL    116.0   \n",
            "\n",
            "   distance  hour  minute            time_hour                    name  \n",
            "0      1400     5      15  2013-01-01 05:00:00   United Air Lines Inc.  \n",
            "1      1416     5      29  2013-01-01 05:00:00   United Air Lines Inc.  \n",
            "2      1089     5      40  2013-01-01 05:00:00  American Airlines Inc.  \n",
            "3      1576     5      45  2013-01-01 05:00:00         JetBlue Airways  \n",
            "4       762     6       0  2013-01-01 06:00:00    Delta Air Lines Inc.  \n",
            "\n",
            "[5 rows x 21 columns]\n"
          ]
        }
      ],
      "source": [
        "# Load the dataset\n",
        "file_path = 'flights.csv'  # Adjust the path if necessary\n",
        "df = pd.read_csv(file_path)\n",
        "\n",
        "# Display basic information about the dataset\n",
        "print(df.info())\n",
        "print(df.head())"
      ]
    },
    {
      "cell_type": "code",
      "execution_count": null,
      "metadata": {
        "colab": {
          "background_save": true
        },
        "id": "MD_wnFzXyVNM",
        "outputId": "a31a2150-68f0-4678-a273-5ea7ef58aaa7"
      },
      "outputs": [
        {
          "ename": "KeyError",
          "evalue": "'ActualDeparture'",
          "output_type": "error",
          "traceback": [
            "\u001b[0;31m---------------------------------------------------------------------------\u001b[0m",
            "\u001b[0;31mKeyError\u001b[0m                                  Traceback (most recent call last)",
            "\u001b[0;32m/usr/local/lib/python3.10/dist-packages/pandas/core/indexes/base.py\u001b[0m in \u001b[0;36mget_loc\u001b[0;34m(self, key)\u001b[0m\n\u001b[1;32m   3652\u001b[0m         \u001b[0;32mtry\u001b[0m\u001b[0;34m:\u001b[0m\u001b[0;34m\u001b[0m\u001b[0;34m\u001b[0m\u001b[0m\n\u001b[0;32m-> 3653\u001b[0;31m             \u001b[0;32mreturn\u001b[0m \u001b[0mself\u001b[0m\u001b[0;34m.\u001b[0m\u001b[0m_engine\u001b[0m\u001b[0;34m.\u001b[0m\u001b[0mget_loc\u001b[0m\u001b[0;34m(\u001b[0m\u001b[0mcasted_key\u001b[0m\u001b[0;34m)\u001b[0m\u001b[0;34m\u001b[0m\u001b[0;34m\u001b[0m\u001b[0m\n\u001b[0m\u001b[1;32m   3654\u001b[0m         \u001b[0;32mexcept\u001b[0m \u001b[0mKeyError\u001b[0m \u001b[0;32mas\u001b[0m \u001b[0merr\u001b[0m\u001b[0;34m:\u001b[0m\u001b[0;34m\u001b[0m\u001b[0;34m\u001b[0m\u001b[0m\n",
            "\u001b[0;32m/usr/local/lib/python3.10/dist-packages/pandas/_libs/index.pyx\u001b[0m in \u001b[0;36mpandas._libs.index.IndexEngine.get_loc\u001b[0;34m()\u001b[0m\n",
            "\u001b[0;32m/usr/local/lib/python3.10/dist-packages/pandas/_libs/index.pyx\u001b[0m in \u001b[0;36mpandas._libs.index.IndexEngine.get_loc\u001b[0;34m()\u001b[0m\n",
            "\u001b[0;32mpandas/_libs/hashtable_class_helper.pxi\u001b[0m in \u001b[0;36mpandas._libs.hashtable.PyObjectHashTable.get_item\u001b[0;34m()\u001b[0m\n",
            "\u001b[0;32mpandas/_libs/hashtable_class_helper.pxi\u001b[0m in \u001b[0;36mpandas._libs.hashtable.PyObjectHashTable.get_item\u001b[0;34m()\u001b[0m\n",
            "\u001b[0;31mKeyError\u001b[0m: 'ActualDeparture'",
            "\nThe above exception was the direct cause of the following exception:\n",
            "\u001b[0;31mKeyError\u001b[0m                                  Traceback (most recent call last)",
            "\u001b[0;32m<ipython-input-10-dc822455a21c>\u001b[0m in \u001b[0;36m<cell line: 3>\u001b[0;34m()\u001b[0m\n\u001b[1;32m      1\u001b[0m \u001b[0;31m# Convert date columns to datetime format\u001b[0m\u001b[0;34m\u001b[0m\u001b[0;34m\u001b[0m\u001b[0m\n\u001b[1;32m      2\u001b[0m \u001b[0mdf\u001b[0m\u001b[0;34m[\u001b[0m\u001b[0;34m'ScheduledDeparture'\u001b[0m\u001b[0;34m]\u001b[0m \u001b[0;34m=\u001b[0m \u001b[0mpd\u001b[0m\u001b[0;34m.\u001b[0m\u001b[0mto_datetime\u001b[0m\u001b[0;34m(\u001b[0m\u001b[0mdf\u001b[0m\u001b[0;34m[\u001b[0m\u001b[0;34m'sched_dep_time'\u001b[0m\u001b[0;34m]\u001b[0m\u001b[0;34m)\u001b[0m\u001b[0;34m\u001b[0m\u001b[0;34m\u001b[0m\u001b[0m\n\u001b[0;32m----> 3\u001b[0;31m \u001b[0mdf\u001b[0m\u001b[0;34m[\u001b[0m\u001b[0;34m'ActualDeparture'\u001b[0m\u001b[0;34m]\u001b[0m \u001b[0;34m=\u001b[0m \u001b[0mpd\u001b[0m\u001b[0;34m.\u001b[0m\u001b[0mto_datetime\u001b[0m\u001b[0;34m(\u001b[0m\u001b[0mdf\u001b[0m\u001b[0;34m[\u001b[0m\u001b[0;34m'ActualDeparture'\u001b[0m\u001b[0;34m]\u001b[0m\u001b[0;34m)\u001b[0m\u001b[0;34m\u001b[0m\u001b[0;34m\u001b[0m\u001b[0m\n\u001b[0m\u001b[1;32m      4\u001b[0m \u001b[0mdf\u001b[0m\u001b[0;34m[\u001b[0m\u001b[0;34m'ScheduledArrival'\u001b[0m\u001b[0;34m]\u001b[0m \u001b[0;34m=\u001b[0m \u001b[0mpd\u001b[0m\u001b[0;34m.\u001b[0m\u001b[0mto_datetime\u001b[0m\u001b[0;34m(\u001b[0m\u001b[0mdf\u001b[0m\u001b[0;34m[\u001b[0m\u001b[0;34m'ScheduledArrival'\u001b[0m\u001b[0;34m]\u001b[0m\u001b[0;34m)\u001b[0m\u001b[0;34m\u001b[0m\u001b[0;34m\u001b[0m\u001b[0m\n\u001b[1;32m      5\u001b[0m \u001b[0mdf\u001b[0m\u001b[0;34m[\u001b[0m\u001b[0;34m'ActualArrival'\u001b[0m\u001b[0;34m]\u001b[0m \u001b[0;34m=\u001b[0m \u001b[0mpd\u001b[0m\u001b[0;34m.\u001b[0m\u001b[0mto_datetime\u001b[0m\u001b[0;34m(\u001b[0m\u001b[0mdf\u001b[0m\u001b[0;34m[\u001b[0m\u001b[0;34m'ActualArrival'\u001b[0m\u001b[0;34m]\u001b[0m\u001b[0;34m)\u001b[0m\u001b[0;34m\u001b[0m\u001b[0;34m\u001b[0m\u001b[0m\n",
            "\u001b[0;32m/usr/local/lib/python3.10/dist-packages/pandas/core/frame.py\u001b[0m in \u001b[0;36m__getitem__\u001b[0;34m(self, key)\u001b[0m\n\u001b[1;32m   3759\u001b[0m             \u001b[0;32mif\u001b[0m \u001b[0mself\u001b[0m\u001b[0;34m.\u001b[0m\u001b[0mcolumns\u001b[0m\u001b[0;34m.\u001b[0m\u001b[0mnlevels\u001b[0m \u001b[0;34m>\u001b[0m \u001b[0;36m1\u001b[0m\u001b[0;34m:\u001b[0m\u001b[0;34m\u001b[0m\u001b[0;34m\u001b[0m\u001b[0m\n\u001b[1;32m   3760\u001b[0m                 \u001b[0;32mreturn\u001b[0m \u001b[0mself\u001b[0m\u001b[0;34m.\u001b[0m\u001b[0m_getitem_multilevel\u001b[0m\u001b[0;34m(\u001b[0m\u001b[0mkey\u001b[0m\u001b[0;34m)\u001b[0m\u001b[0;34m\u001b[0m\u001b[0;34m\u001b[0m\u001b[0m\n\u001b[0;32m-> 3761\u001b[0;31m             \u001b[0mindexer\u001b[0m \u001b[0;34m=\u001b[0m \u001b[0mself\u001b[0m\u001b[0;34m.\u001b[0m\u001b[0mcolumns\u001b[0m\u001b[0;34m.\u001b[0m\u001b[0mget_loc\u001b[0m\u001b[0;34m(\u001b[0m\u001b[0mkey\u001b[0m\u001b[0;34m)\u001b[0m\u001b[0;34m\u001b[0m\u001b[0;34m\u001b[0m\u001b[0m\n\u001b[0m\u001b[1;32m   3762\u001b[0m             \u001b[0;32mif\u001b[0m \u001b[0mis_integer\u001b[0m\u001b[0;34m(\u001b[0m\u001b[0mindexer\u001b[0m\u001b[0;34m)\u001b[0m\u001b[0;34m:\u001b[0m\u001b[0;34m\u001b[0m\u001b[0;34m\u001b[0m\u001b[0m\n\u001b[1;32m   3763\u001b[0m                 \u001b[0mindexer\u001b[0m \u001b[0;34m=\u001b[0m \u001b[0;34m[\u001b[0m\u001b[0mindexer\u001b[0m\u001b[0;34m]\u001b[0m\u001b[0;34m\u001b[0m\u001b[0;34m\u001b[0m\u001b[0m\n",
            "\u001b[0;32m/usr/local/lib/python3.10/dist-packages/pandas/core/indexes/base.py\u001b[0m in \u001b[0;36mget_loc\u001b[0;34m(self, key)\u001b[0m\n\u001b[1;32m   3653\u001b[0m             \u001b[0;32mreturn\u001b[0m \u001b[0mself\u001b[0m\u001b[0;34m.\u001b[0m\u001b[0m_engine\u001b[0m\u001b[0;34m.\u001b[0m\u001b[0mget_loc\u001b[0m\u001b[0;34m(\u001b[0m\u001b[0mcasted_key\u001b[0m\u001b[0;34m)\u001b[0m\u001b[0;34m\u001b[0m\u001b[0;34m\u001b[0m\u001b[0m\n\u001b[1;32m   3654\u001b[0m         \u001b[0;32mexcept\u001b[0m \u001b[0mKeyError\u001b[0m \u001b[0;32mas\u001b[0m \u001b[0merr\u001b[0m\u001b[0;34m:\u001b[0m\u001b[0;34m\u001b[0m\u001b[0;34m\u001b[0m\u001b[0m\n\u001b[0;32m-> 3655\u001b[0;31m             \u001b[0;32mraise\u001b[0m \u001b[0mKeyError\u001b[0m\u001b[0;34m(\u001b[0m\u001b[0mkey\u001b[0m\u001b[0;34m)\u001b[0m \u001b[0;32mfrom\u001b[0m \u001b[0merr\u001b[0m\u001b[0;34m\u001b[0m\u001b[0;34m\u001b[0m\u001b[0m\n\u001b[0m\u001b[1;32m   3656\u001b[0m         \u001b[0;32mexcept\u001b[0m \u001b[0mTypeError\u001b[0m\u001b[0;34m:\u001b[0m\u001b[0;34m\u001b[0m\u001b[0;34m\u001b[0m\u001b[0m\n\u001b[1;32m   3657\u001b[0m             \u001b[0;31m# If we have a listlike key, _check_indexing_error will raise\u001b[0m\u001b[0;34m\u001b[0m\u001b[0;34m\u001b[0m\u001b[0m\n",
            "\u001b[0;31mKeyError\u001b[0m: 'ActualDeparture'"
          ]
        }
      ],
      "source": [
        "import matplotlib.pyplot as plt\n",
        "\n",
        "# Convert the 'time_hour' column to datetime\n",
        "flights_data['time_hour'] = pd.to_datetime(flights_data['time_hour'])\n",
        "\n",
        "# Create a new column for the day of the week\n",
        "flights_data['day_of_week'] = flights_data['time_hour'].dt.dayofweek\n",
        "\n",
        "# Define weekdays and weekends\n",
        "flights_data['is_weekend'] = flights_data['day_of_week'].isin([5, 6])\n",
        "\n",
        "# Calculate average delay for weekdays and weekends\n",
        "avg_delay_weekday = flights_data[~flights_data['is_weekend']]['dep_delay'].mean()\n",
        "avg_delay_weekend = flights_data[flights_data['is_weekend']]['dep_delay'].mean()\n",
        "\n",
        "print(f'Rata-rata penundaan di hari kerja: {avg_delay_weekday:.2f} menit')\n",
        "print(f'Rata-rata penundaan di akhir pekan: {avg_delay_weekend:.2f} menit')\n",
        "\n",
        "# Plotting\n",
        "plt.figure(figsize=(8, 6))\n",
        "flights_data.groupby('is_weekend')['dep_delay'].mean().plot(kind='bar')\n",
        "plt.title('Rata-rata Penundaan Penerbangan: Hari Kerja vs Akhir Pekan')\n",
        "plt.xticks([0, 1], ['Hari Kerja', 'Akhir Pekan'], rotation=0)\n",
        "plt.ylabel('Rata-rata Penundaan (menit)')\n",
        "plt.show()"
      ]
    },
    {
      "cell_type": "code",
      "execution_count": null,
      "metadata": {
        "id": "zli9Ejc6yZbM"
      },
      "outputs": [],
      "source": [
        "# Extract day of week and weekend information\n",
        "df['DayOfWeek'] = df['ScheduledDeparture'].dt.dayofweek\n",
        "df['IsWeekend'] = df['DayOfWeek'] >= 5  # Saturday and Sunday are 5 and 6"
      ]
    },
    {
      "cell_type": "code",
      "execution_count": null,
      "metadata": {
        "id": "AmM18nH4ycjI"
      },
      "outputs": [],
      "source": [
        "# Calculate delays in minutes\n",
        "df['DepartureDelay'] = (df['ActualDeparture'] - df['ScheduledDeparture']).dt.total_seconds() / 60\n",
        "df['ArrivalDelay'] = (df['ActualArrival'] - df['ScheduledArrival']).dt.total_seconds() / 60"
      ]
    },
    {
      "cell_type": "code",
      "execution_count": null,
      "metadata": {
        "id": "n0oYRlG9yfRh"
      },
      "outputs": [],
      "source": [
        "# Handle negative delays (early departures/arrivals)\n",
        "df['DepartureDelay'] = df['DepartureDelay'].clip(lower=0)\n",
        "df['ArrivalDelay'] = df['ArrivalDelay'].clip(lower=0)"
      ]
    },
    {
      "cell_type": "code",
      "execution_count": null,
      "metadata": {
        "id": "HA9Hg60nyhtm"
      },
      "outputs": [],
      "source": [
        "# Question 1: Are flight delays more frequent on weekdays than weekends?\n",
        "weekday_delays = df[df['IsWeekend'] == False]['DepartureDelay']\n",
        "weekend_delays = df[df['IsWeekend'] == True]['DepartureDelay']\n",
        "\n",
        "# Plot comparison\n",
        "plt.figure(figsize=(12, 6))\n",
        "sns.boxplot(x='IsWeekend', y='DepartureDelay', data=df)\n",
        "plt.title('Flight Delays: Weekdays vs. Weekends')\n",
        "plt.xlabel('Is Weekend')\n",
        "plt.ylabel('Departure Delay (minutes)')\n",
        "plt.xticks([0, 1], ['Weekdays', 'Weekends'])\n",
        "plt.show()"
      ]
    },
    {
      "cell_type": "code",
      "execution_count": null,
      "metadata": {
        "id": "LILNZ1IWyn6C"
      },
      "outputs": [],
      "source": [
        "# Question 2: Which airline has the highest average delay?\n",
        "plt.figure(figsize=(14, 7))\n",
        "sns.boxplot(x='Airline', y='DepartureDelay', data=df)\n",
        "plt.title('Average Departure Delay by Airline')\n",
        "plt.xlabel('Airline')\n",
        "plt.ylabel('Departure Delay (minutes)')\n",
        "plt.xticks(rotation=45)\n",
        "plt.show()"
      ]
    },
    {
      "cell_type": "code",
      "execution_count": null,
      "metadata": {
        "id": "4Xo6v_yeyqwK"
      },
      "outputs": [],
      "source": [
        "# Question 3: Which airport has the highest average delay?\n",
        "plt.figure(figsize=(14, 7))\n",
        "sns.boxplot(x='Origin', y='DepartureDelay', data=df)\n",
        "plt.title('Average Departure Delay by Origin Airport')\n",
        "plt.xlabel('Origin Airport')\n",
        "plt.ylabel('Departure Delay (minutes)')\n",
        "plt.xticks(rotation=90)\n",
        "plt.show()"
      ]
    },
    {
      "cell_type": "code",
      "execution_count": null,
      "metadata": {
        "id": "JOS2v3vaytBR"
      },
      "outputs": [],
      "source": [
        "# Question 4: How does weather affect flight delays?\n",
        "plt.figure(figsize=(12, 6))\n",
        "sns.boxplot(x='Weather', y='DepartureDelay', data=df)\n",
        "plt.title('Departure Delays by Weather Conditions')\n",
        "plt.xlabel('Weather')\n",
        "plt.ylabel('Departure Delay (minutes)')\n",
        "plt.xticks(rotation=45)\n",
        "plt.show()"
      ]
    },
    {
      "cell_type": "code",
      "execution_count": null,
      "metadata": {
        "id": "shgtIVEYyuVI"
      },
      "outputs": [],
      "source": [
        "# Question 5: Are morning flights more likely to be delayed compared to afternoon or evening flights?\n",
        "df['Hour'] = df['ScheduledDeparture'].dt.hour\n",
        "plt.figure(figsize=(14, 7))\n",
        "sns.boxplot(x='Hour', y='DepartureDelay', data=df)\n",
        "plt.title('Departure Delays by Hour of the Day')\n",
        "plt.xlabel('Hour of the Day')\n",
        "plt.ylabel('Departure Delay (minutes)')\n",
        "plt.show()"
      ]
    }
  ],
  "metadata": {
    "colab": {
      "provenance": [],
      "mount_file_id": "1oZPxOY-3Lt8ayXsSInElOejScws4xLLh",
      "authorship_tag": "ABX9TyMsTNzjJbT5mIMMRBLWmFkP",
      "include_colab_link": true
    },
    "kernelspec": {
      "display_name": "Python 3",
      "name": "python3"
    },
    "language_info": {
      "name": "python"
    }
  },
  "nbformat": 4,
  "nbformat_minor": 0
}